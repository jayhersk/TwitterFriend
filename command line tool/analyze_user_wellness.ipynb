{
 "cells": [
  {
   "cell_type": "code",
   "execution_count": 1,
   "metadata": {},
   "outputs": [],
   "source": [
    "# analyze the wellness score for one user\n",
    "\n",
    "import json\n",
    "import os\n",
    "import nltk\n",
    "#nltk.download('punkt')\n",
    "from nltk.tokenize import word_tokenize\n",
    "from nltk.corpus import stopwords\n",
    "from nltk.stem import PorterStemmer\n",
    "import matplotlib.pyplot as plt\n",
    "from wordcloud import WordCloud\n",
    "from math import log, sqrt\n",
    "import pandas as pd\n",
    "import numpy as np\n",
    "import re\n",
    "from scipy.sparse import hstack\n",
    "from sklearn.feature_extraction.text import CountVectorizer\n",
    "from vaderSentiment.vaderSentiment import SentimentIntensityAnalyzer\n",
    "import warnings\n",
    "warnings.filterwarnings(\"ignore\", category=DeprecationWarning) \n",
    "\n",
    "def split_data(data):\n",
    "    split_data = {}\n",
    "\n",
    "    for tweet in data['tweets']:\n",
    "        month_string = tweet['created'][3:11]\n",
    "        if month_string not in split_data.keys():\n",
    "            split_data[month_string] = {}\n",
    "            split_data[month_string]['tweets'] = []\n",
    "            split_data[month_string]['retweets'] = []\n",
    "            split_data[month_string]['replies'] = []\n",
    "\n",
    "        split_data[month_string]['tweets'].append(tweet)\n",
    "\n",
    "    for tweet in data['retweets']:\n",
    "        month_string = tweet['created'][3:11]\n",
    "        if month_string not in split_data.keys():\n",
    "            split_data[month_string] = {}\n",
    "            split_data[month_string]['tweets'] = []\n",
    "            split_data[month_string]['retweets'] = []\n",
    "            split_data[month_string]['replies'] = []\n",
    "\n",
    "        split_data[month_string]['retweets'].append(tweet)\n",
    "\n",
    "    for tweet in data['replies']:\n",
    "        month_string = tweet['created'][3:11]\n",
    "        if month_string not in split_data.keys():\n",
    "            split_data[month_string] = {}\n",
    "            split_data[month_string]['tweets'] = []\n",
    "            split_data[month_string]['retweets'] = []\n",
    "            split_data[month_string]['replies'] = []\n",
    "\n",
    "        split_data[month_string]['replies'].append(tweet)\n",
    "\n",
    "    return split_data\n",
    "\n",
    "# Return proportion of negative sentiment tweets\n",
    "def sentiment_score(tweet_list):\n",
    "    if len(tweet_list) > 0:\n",
    "        analyzer = SentimentIntensityAnalyzer()\n",
    "        neg_count = 0\n",
    "        for tweet in tweet_list:\n",
    "            vs = analyzer.polarity_scores(tweet['text'])\n",
    "            # print(\"{:-<65} {}\".format(tweet['text'], str(vs)))\n",
    "            if vs['compound'] <= -0.05:\n",
    "                neg_count += 1\n",
    "\n",
    "        return neg_count / len(tweet_list)\n",
    "    return 0.0\n",
    "\n",
    "# Return proportion of tweets made in the middle of the night\n",
    "def insomnia_index(tweet_list):\n",
    "    if len(tweet_list) > 0:\n",
    "        insomia_count = 0\n",
    "        for tweet in tweet_list:\n",
    "            if int(tweet['created'][14]) > 0 and int(tweet['created'][14]) < 6:\n",
    "                insomia_count += 1\n",
    "        return insomia_count / len(tweet_list)\n",
    "    return 0.0\n",
    "\n",
    "\n",
    "# Data is a dictionary with entries: tweets, retweets, and replies.\n",
    "def calculate_wellness(data):\n",
    "\n",
    "    # Get tweet score\n",
    "    tweet_sentiment = sentiment_score(data['tweets'])\n",
    "    tweet_insomia = insomnia_index(data['tweets'])\n",
    "    tweet_score = tweet_sentiment + tweet_insomia*0.5\n",
    "\n",
    "    # Get retweet score\n",
    "    retweet_sentiment = sentiment_score(data['retweets'])\n",
    "    retweet_insomia = insomnia_index(data['retweets'])\n",
    "    retweet_score = retweet_sentiment + retweet_insomia*0.5\n",
    "\n",
    "    # Get reply score\n",
    "    reply_sentiment = sentiment_score(data['replies'])\n",
    "    reply_insomia = insomnia_index(data['tweets'])\n",
    "    reply_score = reply_sentiment + reply_insomia*0.5\n",
    "\n",
    "    return 0.5*tweet_score + 0.25*retweet_score + 0.25*reply_score\n",
    "\n",
    "def user_wellness(username, friendname):\n",
    "    # should return a dictionary that gives a wellness score for each week\n",
    "    # and each month that the user was active.\n",
    "\n",
    "    # Read tweet data\n",
    "    data_path = os.path.join(os.path.join(username, 'friend_data'), friendname + '.json')\n",
    "    data = {}\n",
    "    with open(data_path) as data_json:\n",
    "        data = json.load(data_json)\n",
    "\n",
    "    # Split tweets into time intervals (weeks and months)\n",
    "    data = split_data(data)\n",
    "\n",
    "    # Create output dictionary\n",
    "    wellness_scores = dict.fromkeys(data.keys())\n",
    "\n",
    "    # Pass data intervals to function for calculating wellness\n",
    "    for month in data.keys():\n",
    "        wellness_scores[month] = calculate_wellness(data[month])\n",
    "\n",
    "    return wellness_scores\n",
    "\n",
    "if __name__ == '__main__':\n",
    "    # pass in the username of the account you want to download\n",
    "    data = user_wellness(\"eegilbert\",\"munmun10\")\n",
    "    wellness = pd.DataFrame.from_dict(data, orient='index')\n",
    "\n",
    "    # write the json file\n",
    "    # with open(\"munmun10\" + '_wellness.json', 'w') as outfile:\n",
    "    #     json.dump(data, outfile, indent=2)"
   ]
  },
  {
   "cell_type": "code",
   "execution_count": 2,
   "metadata": {},
   "outputs": [],
   "source": [
    "#Read tweet data\n",
    "def read_tweet_data(username, friendname):\n",
    "    data_path = os.path.join(os.path.join(username, 'friend_data'), friendname + '.json')\n",
    "    data = {}\n",
    "    with open(data_path) as data_json:\n",
    "        data = json.load(data_json)\n",
    "    data = split_data(data)\n",
    "    return data"
   ]
  },
  {
   "cell_type": "code",
   "execution_count": 3,
   "metadata": {},
   "outputs": [],
   "source": [
    "tweets = read_tweet_data(\"eegilbert\",\"munmun10\")"
   ]
  },
  {
   "cell_type": "code",
   "execution_count": 4,
   "metadata": {},
   "outputs": [
    {
     "data": {
      "text/html": [
       "<div>\n",
       "<style scoped>\n",
       "    .dataframe tbody tr th:only-of-type {\n",
       "        vertical-align: middle;\n",
       "    }\n",
       "\n",
       "    .dataframe tbody tr th {\n",
       "        vertical-align: top;\n",
       "    }\n",
       "\n",
       "    .dataframe thead th {\n",
       "        text-align: right;\n",
       "    }\n",
       "</style>\n",
       "<table border=\"1\" class=\"dataframe\">\n",
       "  <thead>\n",
       "    <tr style=\"text-align: right;\">\n",
       "      <th></th>\n",
       "      <th>wellness_score</th>\n",
       "    </tr>\n",
       "  </thead>\n",
       "  <tbody>\n",
       "    <tr>\n",
       "      <th>Apr-2020</th>\n",
       "      <td>0.380376</td>\n",
       "    </tr>\n",
       "    <tr>\n",
       "      <th>Mar-2020</th>\n",
       "      <td>0.693945</td>\n",
       "    </tr>\n",
       "    <tr>\n",
       "      <th>Feb-2020</th>\n",
       "      <td>0.210227</td>\n",
       "    </tr>\n",
       "    <tr>\n",
       "      <th>Jan-2020</th>\n",
       "      <td>0.256944</td>\n",
       "    </tr>\n",
       "    <tr>\n",
       "      <th>Dec-2019</th>\n",
       "      <td>0.367063</td>\n",
       "    </tr>\n",
       "    <tr>\n",
       "      <th>...</th>\n",
       "      <td>...</td>\n",
       "    </tr>\n",
       "    <tr>\n",
       "      <th>Dec-2012</th>\n",
       "      <td>0.321429</td>\n",
       "    </tr>\n",
       "    <tr>\n",
       "      <th>Nov-2012</th>\n",
       "      <td>0.253535</td>\n",
       "    </tr>\n",
       "    <tr>\n",
       "      <th>Oct-2012</th>\n",
       "      <td>0.350072</td>\n",
       "    </tr>\n",
       "    <tr>\n",
       "      <th>Sep-2012</th>\n",
       "      <td>0.216346</td>\n",
       "    </tr>\n",
       "    <tr>\n",
       "      <th>Jul-2017</th>\n",
       "      <td>0.000000</td>\n",
       "    </tr>\n",
       "  </tbody>\n",
       "</table>\n",
       "<p>91 rows × 1 columns</p>\n",
       "</div>"
      ],
      "text/plain": [
       "          wellness_score\n",
       "Apr-2020        0.380376\n",
       "Mar-2020        0.693945\n",
       "Feb-2020        0.210227\n",
       "Jan-2020        0.256944\n",
       "Dec-2019        0.367063\n",
       "...                  ...\n",
       "Dec-2012        0.321429\n",
       "Nov-2012        0.253535\n",
       "Oct-2012        0.350072\n",
       "Sep-2012        0.216346\n",
       "Jul-2017        0.000000\n",
       "\n",
       "[91 rows x 1 columns]"
      ]
     },
     "execution_count": 4,
     "metadata": {},
     "output_type": "execute_result"
    }
   ],
   "source": [
    "wellness = wellness.rename(columns = {0:'wellness_score'})\n",
    "wellness"
   ]
  },
  {
   "cell_type": "code",
   "execution_count": 5,
   "metadata": {},
   "outputs": [],
   "source": [
    "wellness['is_well'] = np.where(wellness['wellness_score'] < wellness.wellness_score.mean(), 0, 1)"
   ]
  },
  {
   "cell_type": "code",
   "execution_count": 6,
   "metadata": {},
   "outputs": [
    {
     "data": {
      "text/html": [
       "<div>\n",
       "<style scoped>\n",
       "    .dataframe tbody tr th:only-of-type {\n",
       "        vertical-align: middle;\n",
       "    }\n",
       "\n",
       "    .dataframe tbody tr th {\n",
       "        vertical-align: top;\n",
       "    }\n",
       "\n",
       "    .dataframe thead th {\n",
       "        text-align: right;\n",
       "    }\n",
       "</style>\n",
       "<table border=\"1\" class=\"dataframe\">\n",
       "  <thead>\n",
       "    <tr style=\"text-align: right;\">\n",
       "      <th></th>\n",
       "      <th>date</th>\n",
       "      <th>wellness_score</th>\n",
       "      <th>is_well</th>\n",
       "    </tr>\n",
       "  </thead>\n",
       "  <tbody>\n",
       "    <tr>\n",
       "      <th>0</th>\n",
       "      <td>Apr-2020</td>\n",
       "      <td>0.380376</td>\n",
       "      <td>1</td>\n",
       "    </tr>\n",
       "    <tr>\n",
       "      <th>1</th>\n",
       "      <td>Mar-2020</td>\n",
       "      <td>0.693945</td>\n",
       "      <td>1</td>\n",
       "    </tr>\n",
       "    <tr>\n",
       "      <th>2</th>\n",
       "      <td>Feb-2020</td>\n",
       "      <td>0.210227</td>\n",
       "      <td>0</td>\n",
       "    </tr>\n",
       "    <tr>\n",
       "      <th>3</th>\n",
       "      <td>Jan-2020</td>\n",
       "      <td>0.256944</td>\n",
       "      <td>0</td>\n",
       "    </tr>\n",
       "    <tr>\n",
       "      <th>4</th>\n",
       "      <td>Dec-2019</td>\n",
       "      <td>0.367063</td>\n",
       "      <td>1</td>\n",
       "    </tr>\n",
       "    <tr>\n",
       "      <th>...</th>\n",
       "      <td>...</td>\n",
       "      <td>...</td>\n",
       "      <td>...</td>\n",
       "    </tr>\n",
       "    <tr>\n",
       "      <th>86</th>\n",
       "      <td>Dec-2012</td>\n",
       "      <td>0.321429</td>\n",
       "      <td>0</td>\n",
       "    </tr>\n",
       "    <tr>\n",
       "      <th>87</th>\n",
       "      <td>Nov-2012</td>\n",
       "      <td>0.253535</td>\n",
       "      <td>0</td>\n",
       "    </tr>\n",
       "    <tr>\n",
       "      <th>88</th>\n",
       "      <td>Oct-2012</td>\n",
       "      <td>0.350072</td>\n",
       "      <td>0</td>\n",
       "    </tr>\n",
       "    <tr>\n",
       "      <th>89</th>\n",
       "      <td>Sep-2012</td>\n",
       "      <td>0.216346</td>\n",
       "      <td>0</td>\n",
       "    </tr>\n",
       "    <tr>\n",
       "      <th>90</th>\n",
       "      <td>Jul-2017</td>\n",
       "      <td>0.000000</td>\n",
       "      <td>0</td>\n",
       "    </tr>\n",
       "  </tbody>\n",
       "</table>\n",
       "<p>91 rows × 3 columns</p>\n",
       "</div>"
      ],
      "text/plain": [
       "        date  wellness_score  is_well\n",
       "0   Apr-2020        0.380376        1\n",
       "1   Mar-2020        0.693945        1\n",
       "2   Feb-2020        0.210227        0\n",
       "3   Jan-2020        0.256944        0\n",
       "4   Dec-2019        0.367063        1\n",
       "..       ...             ...      ...\n",
       "86  Dec-2012        0.321429        0\n",
       "87  Nov-2012        0.253535        0\n",
       "88  Oct-2012        0.350072        0\n",
       "89  Sep-2012        0.216346        0\n",
       "90  Jul-2017        0.000000        0\n",
       "\n",
       "[91 rows x 3 columns]"
      ]
     },
     "execution_count": 6,
     "metadata": {},
     "output_type": "execute_result"
    }
   ],
   "source": [
    "wellness = wellness.reset_index().rename(columns = {'index':'date'})\n",
    "wellness"
   ]
  },
  {
   "cell_type": "code",
   "execution_count": 7,
   "metadata": {},
   "outputs": [],
   "source": [
    "list_of_dates = wellness.date.tolist()"
   ]
  },
  {
   "cell_type": "code",
   "execution_count": 8,
   "metadata": {},
   "outputs": [],
   "source": [
    "list_of_tweets = []\n",
    "for month in list_of_dates:\n",
    "    for i in range(len(tweets[month]['tweets'])):\n",
    "        list_of_tweets.append(tweets[month]['tweets'][i])"
   ]
  },
  {
   "cell_type": "code",
   "execution_count": 9,
   "metadata": {},
   "outputs": [],
   "source": [
    "df = pd.DataFrame(list_of_tweets)"
   ]
  },
  {
   "cell_type": "code",
   "execution_count": 10,
   "metadata": {},
   "outputs": [],
   "source": [
    "df = df.drop(columns=['id_str'])"
   ]
  },
  {
   "cell_type": "code",
   "execution_count": 11,
   "metadata": {},
   "outputs": [],
   "source": [
    "df['created'] = df['created'].str.replace(r'([\\(\\[]).*?([\\)\\]])','')"
   ]
  },
  {
   "cell_type": "code",
   "execution_count": 12,
   "metadata": {},
   "outputs": [],
   "source": [
    "from datetime import datetime"
   ]
  },
  {
   "cell_type": "code",
   "execution_count": 13,
   "metadata": {},
   "outputs": [],
   "source": [
    "date = pd.to_datetime(df.created)"
   ]
  },
  {
   "cell_type": "code",
   "execution_count": 14,
   "metadata": {},
   "outputs": [],
   "source": [
    "df['year'] = date.dt.year.astype(str)\n",
    "df['month'] = date.dt.month.astype(str)"
   ]
  },
  {
   "cell_type": "code",
   "execution_count": 15,
   "metadata": {},
   "outputs": [],
   "source": [
    "df['month'] = df['month'].str.replace(r'1','Jan')\n",
    "df['month'] = df['month'].str.replace(r'2','Feb')\n",
    "df['month'] = df['month'].str.replace(r'3','Mar')\n",
    "df['month'] = df['month'].str.replace(r'4','Apr')\n",
    "df['month'] = df['month'].str.replace(r'5','May')\n",
    "df['month'] = df['month'].str.replace(r'6','Jun')\n",
    "df['month'] = df['month'].str.replace(r'7','Jul')\n",
    "df['month'] = df['month'].str.replace(r'8','Aug')\n",
    "df['month'] = df['month'].str.replace(r'9','Sep')\n",
    "df['month'] = df['month'].str.replace(r'10','Oct')\n",
    "df['month'] = df['month'].str.replace(r'11','Nov')\n",
    "df['month'] = df['month'].str.replace(r'12','Dec')"
   ]
  },
  {
   "cell_type": "code",
   "execution_count": 16,
   "metadata": {},
   "outputs": [],
   "source": [
    "df['date'] = df['month'] + '-' + df['year']\n",
    "df = df.drop(columns=['month','year'])"
   ]
  },
  {
   "cell_type": "code",
   "execution_count": 17,
   "metadata": {},
   "outputs": [],
   "source": [
    "text_by_date = df.groupby(['date'])['text'].sum().to_frame()\n",
    "text_by_date = text_by_date.reset_index()"
   ]
  },
  {
   "cell_type": "code",
   "execution_count": 18,
   "metadata": {},
   "outputs": [],
   "source": [
    "df = wellness.merge(text_by_date,how='left',left_on='date',right_on='date')\n",
    "df = df.dropna()"
   ]
  },
  {
   "cell_type": "code",
   "execution_count": 19,
   "metadata": {},
   "outputs": [
    {
     "data": {
      "text/html": [
       "<div>\n",
       "<style scoped>\n",
       "    .dataframe tbody tr th:only-of-type {\n",
       "        vertical-align: middle;\n",
       "    }\n",
       "\n",
       "    .dataframe tbody tr th {\n",
       "        vertical-align: top;\n",
       "    }\n",
       "\n",
       "    .dataframe thead th {\n",
       "        text-align: right;\n",
       "    }\n",
       "</style>\n",
       "<table border=\"1\" class=\"dataframe\">\n",
       "  <thead>\n",
       "    <tr style=\"text-align: right;\">\n",
       "      <th></th>\n",
       "      <th>date</th>\n",
       "      <th>wellness_score</th>\n",
       "      <th>is_well</th>\n",
       "      <th>text</th>\n",
       "    </tr>\n",
       "  </thead>\n",
       "  <tbody>\n",
       "    <tr>\n",
       "      <th>0</th>\n",
       "      <td>Apr-2020</td>\n",
       "      <td>0.380376</td>\n",
       "      <td>1</td>\n",
       "      <td>while the community will no longer be meeting ...</td>\n",
       "    </tr>\n",
       "    <tr>\n",
       "      <th>1</th>\n",
       "      <td>Mar-2020</td>\n",
       "      <td>0.693945</td>\n",
       "      <td>1</td>\n",
       "      <td>excited to share paper on the causal factors o...</td>\n",
       "    </tr>\n",
       "    <tr>\n",
       "      <th>2</th>\n",
       "      <td>Feb-2020</td>\n",
       "      <td>0.210227</td>\n",
       "      <td>0</td>\n",
       "      <td>not a fan of the title of this piece but the w...</td>\n",
       "    </tr>\n",
       "    <tr>\n",
       "      <th>3</th>\n",
       "      <td>Jan-2020</td>\n",
       "      <td>0.256944</td>\n",
       "      <td>0</td>\n",
       "      <td>i just found out that our opioid usealternativ...</td>\n",
       "    </tr>\n",
       "    <tr>\n",
       "      <th>7</th>\n",
       "      <td>Sep-2019</td>\n",
       "      <td>0.294048</td>\n",
       "      <td>0</td>\n",
       "      <td>wow our paper who is the human in humancentere...</td>\n",
       "    </tr>\n",
       "    <tr>\n",
       "      <th>...</th>\n",
       "      <td>...</td>\n",
       "      <td>...</td>\n",
       "      <td>...</td>\n",
       "      <td>...</td>\n",
       "    </tr>\n",
       "    <tr>\n",
       "      <th>82</th>\n",
       "      <td>Apr-2013</td>\n",
       "      <td>0.338979</td>\n",
       "      <td>0</td>\n",
       "      <td>sign of old age cant recover from jetlag even ...</td>\n",
       "    </tr>\n",
       "    <tr>\n",
       "      <th>83</th>\n",
       "      <td>Mar-2013</td>\n",
       "      <td>0.375616</td>\n",
       "      <td>1</td>\n",
       "      <td>doctors use big data to improve cancer treatme...</td>\n",
       "    </tr>\n",
       "    <tr>\n",
       "      <th>84</th>\n",
       "      <td>Feb-2013</td>\n",
       "      <td>0.285686</td>\n",
       "      <td>0</td>\n",
       "      <td>ms dynamics crm online users get option for ip...</td>\n",
       "    </tr>\n",
       "    <tr>\n",
       "      <th>85</th>\n",
       "      <td>Jan-2013</td>\n",
       "      <td>0.306452</td>\n",
       "      <td>0</td>\n",
       "      <td>wohoo nice deadlines for submission to got ext...</td>\n",
       "    </tr>\n",
       "    <tr>\n",
       "      <th>89</th>\n",
       "      <td>Sep-2012</td>\n",
       "      <td>0.216346</td>\n",
       "      <td>0</td>\n",
       "      <td>only girl in a table of 12 at the banquet need...</td>\n",
       "    </tr>\n",
       "  </tbody>\n",
       "</table>\n",
       "<p>66 rows × 4 columns</p>\n",
       "</div>"
      ],
      "text/plain": [
       "        date  wellness_score  is_well  \\\n",
       "0   Apr-2020        0.380376        1   \n",
       "1   Mar-2020        0.693945        1   \n",
       "2   Feb-2020        0.210227        0   \n",
       "3   Jan-2020        0.256944        0   \n",
       "7   Sep-2019        0.294048        0   \n",
       "..       ...             ...      ...   \n",
       "82  Apr-2013        0.338979        0   \n",
       "83  Mar-2013        0.375616        1   \n",
       "84  Feb-2013        0.285686        0   \n",
       "85  Jan-2013        0.306452        0   \n",
       "89  Sep-2012        0.216346        0   \n",
       "\n",
       "                                                 text  \n",
       "0   while the community will no longer be meeting ...  \n",
       "1   excited to share paper on the causal factors o...  \n",
       "2   not a fan of the title of this piece but the w...  \n",
       "3   i just found out that our opioid usealternativ...  \n",
       "7   wow our paper who is the human in humancentere...  \n",
       "..                                                ...  \n",
       "82  sign of old age cant recover from jetlag even ...  \n",
       "83  doctors use big data to improve cancer treatme...  \n",
       "84  ms dynamics crm online users get option for ip...  \n",
       "85  wohoo nice deadlines for submission to got ext...  \n",
       "89  only girl in a table of 12 at the banquet need...  \n",
       "\n",
       "[66 rows x 4 columns]"
      ]
     },
     "execution_count": 19,
     "metadata": {},
     "output_type": "execute_result"
    }
   ],
   "source": [
    "df"
   ]
  },
  {
   "cell_type": "code",
   "execution_count": 20,
   "metadata": {},
   "outputs": [],
   "source": [
    "count_vectorizer = CountVectorizer(ngram_range=(1,2))"
   ]
  },
  {
   "cell_type": "code",
   "execution_count": 21,
   "metadata": {},
   "outputs": [],
   "source": [
    "vectorized_data = count_vectorizer.fit_transform(df.text)\n",
    "indexed_data = hstack((np.array(range(0,vectorized_data.shape[0]))[:,None], vectorized_data))"
   ]
  },
  {
   "cell_type": "code",
   "execution_count": 22,
   "metadata": {},
   "outputs": [],
   "source": [
    "from sklearn.model_selection import train_test_split"
   ]
  },
  {
   "cell_type": "code",
   "execution_count": 23,
   "metadata": {},
   "outputs": [],
   "source": [
    "target = df[['is_well']]"
   ]
  },
  {
   "cell_type": "code",
   "execution_count": 24,
   "metadata": {},
   "outputs": [],
   "source": [
    "data_train, data_test, targets_train, targets_test = train_test_split(indexed_data, target, test_size=0.4, random_state=0)"
   ]
  },
  {
   "cell_type": "code",
   "execution_count": 25,
   "metadata": {},
   "outputs": [],
   "source": [
    "data_train_index = data_train[:,0]\n",
    "data_train = data_train[:,1:]\n",
    "data_test_index = data_test[:,0]\n",
    "data_test = data_test[:,1:]"
   ]
  },
  {
   "cell_type": "code",
   "execution_count": 26,
   "metadata": {},
   "outputs": [],
   "source": [
    "from sklearn import svm\n",
    "from sklearn.multiclass import OneVsRestClassifier"
   ]
  },
  {
   "cell_type": "code",
   "execution_count": 27,
   "metadata": {},
   "outputs": [],
   "source": [
    "#Create a svm Classifier\n",
    "clf = OneVsRestClassifier(svm.SVC(gamma=0.01, C=100., probability=True, class_weight='balanced', kernel='linear'))"
   ]
  },
  {
   "cell_type": "code",
   "execution_count": 28,
   "metadata": {},
   "outputs": [
    {
     "data": {
      "text/plain": [
       "OneVsRestClassifier(estimator=SVC(C=100.0, break_ties=False, cache_size=200,\n",
       "                                  class_weight='balanced', coef0=0.0,\n",
       "                                  decision_function_shape='ovr', degree=3,\n",
       "                                  gamma=0.01, kernel='linear', max_iter=-1,\n",
       "                                  probability=True, random_state=None,\n",
       "                                  shrinking=True, tol=0.001, verbose=False),\n",
       "                    n_jobs=None)"
      ]
     },
     "execution_count": 28,
     "metadata": {},
     "output_type": "execute_result"
    }
   ],
   "source": [
    "#Train the model using the training sets\n",
    "clf_output = clf.fit(data_train, targets_train)\n",
    "clf_output"
   ]
  },
  {
   "cell_type": "code",
   "execution_count": 29,
   "metadata": {},
   "outputs": [
    {
     "data": {
      "text/plain": [
       "0.5185185185185185"
      ]
     },
     "execution_count": 29,
     "metadata": {},
     "output_type": "execute_result"
    }
   ],
   "source": [
    "clf.score(data_test, targets_test)"
   ]
  },
  {
   "cell_type": "code",
   "execution_count": null,
   "metadata": {},
   "outputs": [],
   "source": []
  }
 ],
 "metadata": {
  "kernelspec": {
   "display_name": "Python 3",
   "language": "python",
   "name": "python3"
  },
  "language_info": {
   "codemirror_mode": {
    "name": "ipython",
    "version": 3
   },
   "file_extension": ".py",
   "mimetype": "text/x-python",
   "name": "python",
   "nbconvert_exporter": "python",
   "pygments_lexer": "ipython3",
   "version": "3.7.7"
  }
 },
 "nbformat": 4,
 "nbformat_minor": 4
}
